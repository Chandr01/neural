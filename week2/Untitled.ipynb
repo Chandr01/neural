{
 "cells": [
  {
   "cell_type": "code",
   "execution_count": 1,
   "metadata": {
    "collapsed": true
   },
   "outputs": [],
   "source": [
    "import numpy as np"
   ]
  },
  {
   "cell_type": "code",
   "execution_count": 128,
   "metadata": {
    "collapsed": true
   },
   "outputs": [],
   "source": [
    "w = np.array([[0,0,0]])"
   ]
  },
  {
   "cell_type": "code",
   "execution_count": 52,
   "metadata": {},
   "outputs": [
    {
     "data": {
      "text/plain": [
       "array([[ 1. ,  1.6, -3.1]])"
      ]
     },
     "execution_count": 52,
     "metadata": {},
     "output_type": "execute_result"
    }
   ],
   "source": [
    "w"
   ]
  },
  {
   "cell_type": "code",
   "execution_count": 31,
   "metadata": {},
   "outputs": [
    {
     "data": {
      "text/plain": [
       "(1, 3)"
      ]
     },
     "execution_count": 31,
     "metadata": {},
     "output_type": "execute_result"
    }
   ],
   "source": [
    "w.shape"
   ]
  },
  {
   "cell_type": "code",
   "execution_count": 33,
   "metadata": {
    "collapsed": true
   },
   "outputs": [],
   "source": [
    "examples = np.array([[1, 1, 0.3], [1,0.4,0.5], [1,0.7,0.8]])"
   ]
  },
  {
   "cell_type": "code",
   "execution_count": 32,
   "metadata": {},
   "outputs": [
    {
     "data": {
      "text/plain": [
       "array([ 1. ,  1. ,  0.3])"
      ]
     },
     "execution_count": 32,
     "metadata": {},
     "output_type": "execute_result"
    }
   ],
   "source": [
    "examples[0]"
   ]
  },
  {
   "cell_type": "code",
   "execution_count": 96,
   "metadata": {},
   "outputs": [],
   "source": [
    "def Target(ex):\n",
    "    if ex[1] == 1 and ex[2] == 0.3:\n",
    "        return 1\n",
    "    elif ex[1] == 0.4 and ex[2] == 0.5:\n",
    "        return 1\n",
    "    elif ex[1] == 0.7 and ex[2] == 0.8:\n",
    "        return 0"
   ]
  },
  {
   "cell_type": "code",
   "execution_count": 103,
   "metadata": {},
   "outputs": [],
   "source": [
    "def Prdict(example):\n",
    "    sum = example[0]*w[0][0] + example[1]*w[0][1] + example[2]*w[0][2]\n",
    "#     print('example' , example)\n",
    "#     print('sum', sum)\n",
    "    if sum > 0:\n",
    "        return 1\n",
    "    else:\n",
    "        return 0"
   ]
  },
  {
   "cell_type": "code",
   "execution_count": 65,
   "metadata": {},
   "outputs": [
    {
     "data": {
      "text/plain": [
       "-0.36000000000000032"
      ]
     },
     "execution_count": 65,
     "metadata": {},
     "output_type": "execute_result"
    }
   ],
   "source": [
    "examples[2][0]*w[0][0] + examples[2][1]*w[0][1] + examples[2][2]*w[0][2]"
   ]
  },
  {
   "cell_type": "code",
   "execution_count": null,
   "metadata": {
    "collapsed": true
   },
   "outputs": [],
   "source": []
  },
  {
   "cell_type": "code",
   "execution_count": null,
   "metadata": {
    "collapsed": true
   },
   "outputs": [],
   "source": []
  },
  {
   "cell_type": "code",
   "execution_count": 59,
   "metadata": {},
   "outputs": [
    {
     "data": {
      "text/plain": [
       "array([-3.1 , -2.17, -2.48])"
      ]
     },
     "execution_count": 59,
     "metadata": {},
     "output_type": "execute_result"
    }
   ],
   "source": [
    "examples[2]*w[0][2]"
   ]
  },
  {
   "cell_type": "code",
   "execution_count": 129,
   "metadata": {
    "collapsed": true
   },
   "outputs": [],
   "source": [
    "perfect = False"
   ]
  },
  {
   "cell_type": "code",
   "execution_count": 130,
   "metadata": {},
   "outputs": [
    {
     "name": "stdout",
     "output_type": "stream",
     "text": [
      "шаг 1\n",
      "e = [ 1.   1.   0.3]\n",
      "0 - Prdict(e) = = 1 - Target(e)\n",
      "прибавляем к [[0 0 0]] ,e [ 1.   1.   0.3] Predict == 0 а должен быть 1\n",
      "шаг 2\n",
      "e = [ 1.   0.4  0.5]\n",
      "1 - Prdict(e) = = 1 - Target(e)\n",
      "шаг 3\n",
      "e = [ 1.   0.7  0.8]\n",
      "1 - Prdict(e) = = 0 - Target(e)\n",
      "вычитаем из [[ 1.   1.   0.3]]  e -  [ 1.   0.7  0.8] Predict == 1 а должен быть 0\n",
      "шаг 4\n",
      "e = [ 1.   1.   0.3]\n",
      "1 - Prdict(e) = = 1 - Target(e)\n",
      "шаг 5\n",
      "e = [ 1.   0.4  0.5]\n",
      "0 - Prdict(e) = = 1 - Target(e)\n",
      "прибавляем к [[ 0.   0.3 -0.5]] ,e [ 1.   0.4  0.5] Predict == 0 а должен быть 1\n",
      "шаг 6\n",
      "e = [ 1.   0.7  0.8]\n",
      "1 - Prdict(e) = = 0 - Target(e)\n",
      "вычитаем из [[ 1.   0.7  0. ]]  e -  [ 1.   0.7  0.8] Predict == 1 а должен быть 0\n",
      "шаг 7\n",
      "e = [ 1.   1.   0.3]\n",
      "0 - Prdict(e) = = 1 - Target(e)\n",
      "прибавляем к [[  0.00000000e+00   1.11022302e-16  -8.00000000e-01]] ,e [ 1.   1.   0.3] Predict == 0 а должен быть 1\n",
      "шаг 8\n",
      "e = [ 1.   0.4  0.5]\n",
      "1 - Prdict(e) = = 1 - Target(e)\n",
      "шаг 9\n",
      "e = [ 1.   0.7  0.8]\n",
      "1 - Prdict(e) = = 0 - Target(e)\n",
      "вычитаем из [[ 1.   1.  -0.5]]  e -  [ 1.   0.7  0.8] Predict == 1 а должен быть 0\n",
      "шаг 10\n",
      "e = [ 1.   1.   0.3]\n",
      "0 - Prdict(e) = = 1 - Target(e)\n",
      "прибавляем к [[ 0.   0.3 -1.3]] ,e [ 1.   1.   0.3] Predict == 0 а должен быть 1\n",
      "шаг 11\n",
      "e = [ 1.   0.4  0.5]\n",
      "1 - Prdict(e) = = 1 - Target(e)\n",
      "шаг 12\n",
      "e = [ 1.   0.7  0.8]\n",
      "1 - Prdict(e) = = 0 - Target(e)\n",
      "вычитаем из [[ 1.   1.3 -1. ]]  e -  [ 1.   0.7  0.8] Predict == 1 а должен быть 0\n",
      "шаг 13\n",
      "e = [ 1.   1.   0.3]\n",
      "1 - Prdict(e) = = 1 - Target(e)\n",
      "шаг 14\n",
      "e = [ 1.   0.4  0.5]\n",
      "0 - Prdict(e) = = 1 - Target(e)\n",
      "прибавляем к [[ 0.   0.6 -1.8]] ,e [ 1.   0.4  0.5] Predict == 0 а должен быть 1\n",
      "шаг 15\n",
      "e = [ 1.   0.7  0.8]\n",
      "1 - Prdict(e) = = 0 - Target(e)\n",
      "вычитаем из [[ 1.   1.  -1.3]]  e -  [ 1.   0.7  0.8] Predict == 1 а должен быть 0\n",
      "шаг 16\n",
      "e = [ 1.   1.   0.3]\n",
      "0 - Prdict(e) = = 1 - Target(e)\n",
      "прибавляем к [[ 0.   0.3 -2.1]] ,e [ 1.   1.   0.3] Predict == 0 а должен быть 1\n",
      "шаг 17\n",
      "e = [ 1.   0.4  0.5]\n",
      "1 - Prdict(e) = = 1 - Target(e)\n",
      "шаг 18\n",
      "e = [ 1.   0.7  0.8]\n",
      "1 - Prdict(e) = = 0 - Target(e)\n",
      "вычитаем из [[ 1.   1.3 -1.8]]  e -  [ 1.   0.7  0.8] Predict == 1 а должен быть 0\n",
      "шаг 19\n",
      "e = [ 1.   1.   0.3]\n",
      "0 - Prdict(e) = = 1 - Target(e)\n",
      "прибавляем к [[ 0.   0.6 -2.6]] ,e [ 1.   1.   0.3] Predict == 0 а должен быть 1\n",
      "шаг 20\n",
      "e = [ 1.   0.4  0.5]\n",
      "1 - Prdict(e) = = 1 - Target(e)\n",
      "шаг 21\n",
      "e = [ 1.   0.7  0.8]\n",
      "1 - Prdict(e) = = 0 - Target(e)\n",
      "вычитаем из [[ 1.   1.6 -2.3]]  e -  [ 1.   0.7  0.8] Predict == 1 а должен быть 0\n",
      "шаг 22\n",
      "e = [ 1.   1.   0.3]\n",
      "0 - Prdict(e) = = 1 - Target(e)\n",
      "прибавляем к [[ 0.   0.9 -3.1]] ,e [ 1.   1.   0.3] Predict == 0 а должен быть 1\n",
      "шаг 23\n",
      "e = [ 1.   0.4  0.5]\n",
      "1 - Prdict(e) = = 1 - Target(e)\n",
      "шаг 24\n",
      "e = [ 1.   0.7  0.8]\n",
      "1 - Prdict(e) = = 0 - Target(e)\n",
      "вычитаем из [[ 1.   1.9 -2.8]]  e -  [ 1.   0.7  0.8] Predict == 1 а должен быть 0\n",
      "шаг 25\n",
      "e = [ 1.   1.   0.3]\n",
      "1 - Prdict(e) = = 1 - Target(e)\n",
      "шаг 26\n",
      "e = [ 1.   0.4  0.5]\n",
      "0 - Prdict(e) = = 1 - Target(e)\n",
      "прибавляем к [[ 0.   1.2 -3.6]] ,e [ 1.   0.4  0.5] Predict == 0 а должен быть 1\n",
      "шаг 27\n",
      "e = [ 1.   0.7  0.8]\n",
      "0 - Prdict(e) = = 0 - Target(e)\n",
      "шаг 28\n",
      "e = [ 1.   1.   0.3]\n",
      "1 - Prdict(e) = = 1 - Target(e)\n",
      "шаг 29\n",
      "e = [ 1.   0.4  0.5]\n",
      "1 - Prdict(e) = = 1 - Target(e)\n",
      "шаг 30\n",
      "e = [ 1.   0.7  0.8]\n",
      "0 - Prdict(e) = = 0 - Target(e)\n",
      "final answer [[ 1.   1.6 -3.1]]\n"
     ]
    }
   ],
   "source": [
    "count = 0\n",
    "while not perfect:\n",
    "    perfect = True\n",
    "    \n",
    "    for e in examples:\n",
    "        count += 1\n",
    "        print('шаг', count)\n",
    "        print('e =', e)\n",
    "        print('{} - Prdict(e) = = {} - Target(e)'.format(Prdict(e), Target(e)))\n",
    "        if Prdict(e) != Target(e):\n",
    "#             print('{} - Prdict(e) ! = {} - Target(e)'.format(Prdict(e), Target(e)))\n",
    "            perfect = False\n",
    "            if Prdict(e) == 0:\n",
    "                print('прибавляем к', w, ',e', e, 'Predict == 0 а должен быть 1')\n",
    "                w = w + e\n",
    "                \n",
    "            else:\n",
    "                print('вычитаем из', w,' e - ',e , 'Predict == 1 а должен быть 0')\n",
    "                w = w - e\n",
    "                \n",
    "        \n",
    "print('final answer', w)"
   ]
  },
  {
   "cell_type": "code",
   "execution_count": null,
   "metadata": {
    "collapsed": true
   },
   "outputs": [],
   "source": []
  },
  {
   "cell_type": "code",
   "execution_count": null,
   "metadata": {
    "collapsed": true
   },
   "outputs": [],
   "source": []
  },
  {
   "cell_type": "code",
   "execution_count": null,
   "metadata": {
    "collapsed": true
   },
   "outputs": [],
   "source": []
  },
  {
   "cell_type": "code",
   "execution_count": 68,
   "metadata": {
    "collapsed": true
   },
   "outputs": [],
   "source": [
    "a = [1, 1, 0.3]\n",
    "b = [1,0.4,0.5]\n",
    "c = [1,0.7,0.8]"
   ]
  },
  {
   "cell_type": "code",
   "execution_count": 66,
   "metadata": {
    "collapsed": true
   },
   "outputs": [],
   "source": [
    "sw1 = [1, 1, 0.3]"
   ]
  },
  {
   "cell_type": "code",
   "execution_count": 69,
   "metadata": {},
   "outputs": [],
   "source": [
    "sw2 = b[0]*sw1[0] + b[1]*sw1[1]+ b[2]*sw1[2]"
   ]
  },
  {
   "cell_type": "code",
   "execution_count": 77,
   "metadata": {},
   "outputs": [
    {
     "data": {
      "text/plain": [
       "1.5499999999999998"
      ]
     },
     "execution_count": 77,
     "metadata": {},
     "output_type": "execute_result"
    }
   ],
   "source": [
    "sw2"
   ]
  },
  {
   "cell_type": "code",
   "execution_count": 86,
   "metadata": {},
   "outputs": [],
   "source": [
    "sw2s = [1-1, 1-0.4,0.3-0.5]"
   ]
  },
  {
   "cell_type": "code",
   "execution_count": 87,
   "metadata": {},
   "outputs": [
    {
     "data": {
      "text/plain": [
       "[0, 0.6, -0.2]"
      ]
     },
     "execution_count": 87,
     "metadata": {},
     "output_type": "execute_result"
    }
   ],
   "source": [
    "sw2s"
   ]
  },
  {
   "cell_type": "code",
   "execution_count": 82,
   "metadata": {
    "collapsed": true
   },
   "outputs": [],
   "source": [
    "sw3 = c[0]*sw2s[0] + c[1]*sw2s[1]+ c[2]*sw2s[2]"
   ]
  },
  {
   "cell_type": "code",
   "execution_count": 83,
   "metadata": {},
   "outputs": [
    {
     "data": {
      "text/plain": [
       "3.62"
      ]
     },
     "execution_count": 83,
     "metadata": {},
     "output_type": "execute_result"
    }
   ],
   "source": [
    "sw3"
   ]
  },
  {
   "cell_type": "code",
   "execution_count": 84,
   "metadata": {
    "collapsed": true
   },
   "outputs": [],
   "source": [
    "sw3s = [2-1, 1.4-0.7,0.8-0.8]"
   ]
  },
  {
   "cell_type": "code",
   "execution_count": 85,
   "metadata": {},
   "outputs": [
    {
     "data": {
      "text/plain": [
       "[1, 0.7, 0.0]"
      ]
     },
     "execution_count": 85,
     "metadata": {},
     "output_type": "execute_result"
    }
   ],
   "source": [
    "sw3s"
   ]
  }
 ],
 "metadata": {
  "kernelspec": {
   "display_name": "Python 3",
   "language": "python",
   "name": "python3"
  },
  "language_info": {
   "codemirror_mode": {
    "name": "ipython",
    "version": 3
   },
   "file_extension": ".py",
   "mimetype": "text/x-python",
   "name": "python",
   "nbconvert_exporter": "python",
   "pygments_lexer": "ipython3",
   "version": "3.6.3"
  }
 },
 "nbformat": 4,
 "nbformat_minor": 2
}
